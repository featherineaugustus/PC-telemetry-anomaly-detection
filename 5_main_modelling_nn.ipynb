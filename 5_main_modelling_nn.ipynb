{
 "cells": [
  {
   "cell_type": "markdown",
   "id": "a6b00599",
   "metadata": {},
   "source": [
    "# Introduction\n",
    "# Datasets\n",
    "- https://www.kaggle.com/datasets/ziya07/smart-manufacturing-iot-cloud-monitoring-dataset\n",
    "\n",
    "We used the smart manufacturing iot cloud monitoring dataset as such machines are similar to a PC. It contains features such as temperature, vibration, humidity, pressure, and energy consumption, which can represent the real features of a PC in several ways:\n",
    "- Temperature: \n",
    "    - Represents the thermal state of PC components like CPU and GPU. \n",
    "    - Elevated, fluctuating, or sustained high temps often hint at cooling interface degradation or increased workload—just as in IoT systems, abnormal temperature readings indicate equipment stress or failure \n",
    "\n",
    "- Vibration: \n",
    "    - In PCs, fan vibration or hard-drive spin irregularities act like mechanical failure indicators—mirroring industrial settings where vibration spikes reveal mechanical faults in motors or structures.\n",
    "\n",
    "- Humidity: \n",
    "    - While PCs are kept in controlled environments, ambient humidity still affects internal corrosion risk and electrical stability—just like environmental IoT sensor systems highlight humidity’s impact on electronic device reliability.\n",
    "\n",
    "- Pressure: \n",
    "    - Though PCs don’t have internal pressure sensors, this can stand in for PSU voltage fluctuations or airflow pressure changes. \n",
    "    - In industrial IoT, pressure sensors track fluid or airflow—changes often signal blockages or system degradation.\n",
    "\n",
    "- Energy consumption: \n",
    "    - Maps directly to PC power draw, reflecting CPU/GPU workloads or inefficiencies—exist in IoT energy‐monitoring systems where spikes can signal abnormal component behavior .\n"
   ]
  },
  {
   "cell_type": "code",
   "execution_count": null,
   "id": "33ba81f5",
   "metadata": {},
   "outputs": [],
   "source": []
  },
  {
   "cell_type": "markdown",
   "id": "3a9782d5",
   "metadata": {},
   "source": [
    "# Edge Telemetry Anomaly Detection with LightGBM → ONNX\n",
    "\n",
    "**Steps:**\n",
    "1. Load SMART telemetry\n",
    "2. Feature scaling\n",
    "3. Train compact LightGBM autoencoder\n",
    "4. Evaluate on holdout set\n",
    "5. Export to ONNX & quantize\n",
    "6. Benchmark size & latency\n",
    "7. Demonstrate streaming inference"
   ]
  },
  {
   "cell_type": "markdown",
   "id": "3d773891",
   "metadata": {},
   "source": [
    "# Load Libraries"
   ]
  },
  {
   "cell_type": "code",
   "execution_count": 1,
   "id": "8ad29280",
   "metadata": {},
   "outputs": [],
   "source": [
    "import warnings\n",
    "warnings.filterwarnings(\"ignore\")\n",
    "\n",
    "import time\n",
    "import os\n",
    "\n",
    "import numpy as np\n",
    "import pandas as pd\n",
    "import seaborn as sns\n",
    "import matplotlib.pyplot as plt\n",
    "%matplotlib inline\n",
    "\n",
    "from collections import Counter\n",
    "\n",
    "import lightgbm as lgb\n",
    "\n",
    "from sklearn.preprocessing import StandardScaler\n",
    "from sklearn.preprocessing import MinMaxScaler\n",
    "from sklearn.model_selection import train_test_split\n",
    "from sklearn.metrics import precision_recall_fscore_support, roc_auc_score\n",
    "from sklearn.model_selection import train_test_split, GridSearchCV\n",
    "from sklearn.metrics import classification_report, roc_auc_score, confusion_matrix, balanced_accuracy_score\n",
    "from sklearn.metrics import ConfusionMatrixDisplay\n",
    "\n",
    "import onnxmltools\n",
    "import onnxruntime as ort\n",
    "from onnxmltools.convert import convert_lightgbm"
   ]
  },
  {
   "cell_type": "code",
   "execution_count": null,
   "id": "c183cb69",
   "metadata": {},
   "outputs": [],
   "source": []
  },
  {
   "cell_type": "markdown",
   "id": "dca04c33",
   "metadata": {},
   "source": [
    "# Code"
   ]
  },
  {
   "cell_type": "code",
   "execution_count": null,
   "id": "dbbedc88",
   "metadata": {},
   "outputs": [],
   "source": [
    "# 1. Load dataset (example: SMART CSV)\n",
    "data = pd.read_csv('dataset/smart_manufacturing_data.csv', parse_dates=['timestamp'])\n",
    "data = data.sort_values(['machine_id','timestamp']).reset_index(drop=True)\n",
    "data.head()"
   ]
  },
  {
   "cell_type": "code",
   "execution_count": null,
   "id": "9332d589",
   "metadata": {},
   "outputs": [],
   "source": [
    "print('Number of machines:', len(set(data['machine_id'].tolist())))\n",
    "Counter(data[\"anomaly_flag\"].tolist())"
   ]
  },
  {
   "cell_type": "code",
   "execution_count": null,
   "id": "d239621f",
   "metadata": {},
   "outputs": [],
   "source": []
  },
  {
   "cell_type": "code",
   "execution_count": null,
   "id": "13b5ef34",
   "metadata": {},
   "outputs": [],
   "source": [
    "# 2. Scale and split features\n",
    "# Split by machines\n",
    "machine_train = list(range(1, 41)) # 1-40\n",
    "machine_test = list(range(41, 51)) # 41-50\n",
    "\n",
    "features = [\"temperature\", \"vibration\", \"humidity\", \"pressure\", \"energy_consumption\"]\n",
    "\n",
    "X_train = data[data['machine_id'].isin(machine_train)][features]\n",
    "X_test = data[data['machine_id'].isin(machine_test)][features]\n",
    "\n",
    "y_train = data[data['machine_id'].isin(machine_train)]['anomaly_flag']\n",
    "y_test = data[data['machine_id'].isin(machine_test)]['anomaly_flag']"
   ]
  },
  {
   "cell_type": "code",
   "execution_count": null,
   "id": "55c179ab",
   "metadata": {},
   "outputs": [],
   "source": [
    "print('Train:', len(y_train))\n",
    "print('Test :', len(y_test))\n",
    "\n",
    "print('Train:', Counter(y_train))\n",
    "print('Test :', Counter(y_test))"
   ]
  },
  {
   "cell_type": "code",
   "execution_count": null,
   "id": "9d01fd0b",
   "metadata": {},
   "outputs": [],
   "source": [
    "# scaler = MinMaxScaler()\n",
    "scaler = StandardScaler()\n",
    "X_train = scaler.fit_transform(X_train)\n",
    "X_test = scaler.transform(X_test)"
   ]
  },
  {
   "cell_type": "code",
   "execution_count": null,
   "id": "2e3f87a2",
   "metadata": {},
   "outputs": [],
   "source": [
    "X_train"
   ]
  },
  {
   "cell_type": "code",
   "execution_count": null,
   "id": "467746fd",
   "metadata": {},
   "outputs": [],
   "source": [
    "y_train"
   ]
  },
  {
   "cell_type": "code",
   "execution_count": null,
   "id": "65165df4",
   "metadata": {},
   "outputs": [],
   "source": []
  },
  {
   "cell_type": "markdown",
   "id": "4cc16a27",
   "metadata": {},
   "source": [
    "We run gridsearch at the start to get the beste parameters, which is:\n",
    "Best hyperparameters: {'learning_rate': 0.1, 'max_depth': 3, 'n_estimators': 20, 'num_leaves': 31}\n",
    "\n",
    "Next, we rerun it without using gridsearch to allow us to optimize the model"
   ]
  },
  {
   "cell_type": "code",
   "execution_count": null,
   "id": "e04b3b77",
   "metadata": {},
   "outputs": [],
   "source": [
    "# 3. Train LightGBM binary classifier\n",
    "param_grid = {\n",
    "    'num_leaves': [31, 50],\n",
    "    'learning_rate': [0.05, 0.1],\n",
    "    'n_estimators': [20, 30],\n",
    "    'max_depth': [3, 5]\n",
    "}\n",
    "\n",
    "model = lgb.LGBMClassifier()\n",
    "clf = GridSearchCV(estimator=model, param_grid=param_grid, scoring='f1', cv=5)\n",
    "clf.fit(X_train, y_train)\n",
    "\n",
    "best_params = clf.best_params_\n",
    "print(\"Best hyperparameters:\", best_params)\n",
    "\n",
    "y_pred = clf.predict(X_test)\n",
    "prec, rec, f1, _ = precision_recall_fscore_support(y_test,y_pred,average='binary')\n",
    "\n",
    "print('')\n",
    "print(f'Prec={prec:.2f}, Rec={rec:.2f}, F1={f1:.2f}, AUC={roc_auc_score(y_test,clf.predict_proba(X_test)[:,1]):.2f}')\n"
   ]
  },
  {
   "cell_type": "markdown",
   "id": "a1725850",
   "metadata": {},
   "source": [
    "As expected, the temperature and the vibration is the top 2 features to determine the anomaly, which make sense as those are the ones with early signs of issues."
   ]
  },
  {
   "cell_type": "code",
   "execution_count": null,
   "id": "75c81e0b",
   "metadata": {},
   "outputs": [],
   "source": [
    "# FEATURE IMPORTANCE\n",
    "importances = clf.best_estimator_.feature_importances_\n",
    "feat_imp = pd.Series(importances, index=features).sort_values(ascending=False)\n",
    "feat_imp.plot(kind='bar', figsize=(6, 3))\n",
    "plt.title(\"XGBoost Feature Importances\")\n",
    "plt.show()"
   ]
  },
  {
   "cell_type": "markdown",
   "id": "8f294cab",
   "metadata": {},
   "source": [
    "Rerun LGBM training with best parameters"
   ]
  },
  {
   "cell_type": "code",
   "execution_count": null,
   "id": "3cdaf4e7",
   "metadata": {},
   "outputs": [],
   "source": [
    "model = lgb.LGBMClassifier(learning_rate=0.1, max_depth=3, n_estimators=20, num_leaves=31)\n",
    "model.fit(X_train, y_train)\n",
    "\n",
    "y_pred = clf.predict(X_test)\n",
    "prec, rec, f1, _ = precision_recall_fscore_support(y_test,y_pred,average='binary')\n",
    "\n",
    "print('')\n",
    "print(f'Prec={prec:.2f}, Rec={rec:.2f}, F1={f1:.2f}, AUC={roc_auc_score(y_test, model.predict_proba(X_test)[:,1]):.2f}')"
   ]
  },
  {
   "cell_type": "code",
   "execution_count": null,
   "id": "ea9d74f9",
   "metadata": {},
   "outputs": [],
   "source": [
    "print(\"Classification Report:\\n\", classification_report(y_test, y_pred))"
   ]
  },
  {
   "cell_type": "code",
   "execution_count": null,
   "id": "cb91c4fb",
   "metadata": {},
   "outputs": [],
   "source": [
    "cm = confusion_matrix(y_test, y_pred)\n",
    "print(\"Confusion matrix:\\n\", cm)\n",
    "\n",
    "# Normalize by true labels (rows)\n",
    "cm_normalized = cm.astype('float') / cm.sum(axis=1)[:, np.newaxis]\n",
    "\n",
    "disp = ConfusionMatrixDisplay(confusion_matrix=cm_normalized, display_labels=['Normal', 'Abnormal'])\n",
    "disp.plot(cmap=plt.cm.Blues, values_format='.2%')\n",
    "plt.title(\"Confusion Matrix\")\n",
    "plt.show()"
   ]
  },
  {
   "cell_type": "code",
   "execution_count": null,
   "id": "02262beb",
   "metadata": {},
   "outputs": [],
   "source": []
  },
  {
   "cell_type": "code",
   "execution_count": null,
   "id": "4bdceda5",
   "metadata": {},
   "outputs": [],
   "source": []
  },
  {
   "cell_type": "code",
   "execution_count": null,
   "id": "d8646851",
   "metadata": {},
   "outputs": [],
   "source": [
    "# 4. Convert and quantize to ONNX\n",
    "initial_types = [('input', onnxmltools.convert.common.data_types.FloatTensorType([None,X_train.shape[1]]))]\n",
    "onnx_model = convert_lightgbm(model.booster_, initial_types=initial_types)\n",
    "with open('model_fp32.onnx','wb') as f: f.write(onnx_model.SerializeToString())\n",
    "\n",
    "q_model = quantization.quantize_dynamic('model_fp32.onnx','model_int8.onnx')\n"
   ]
  },
  {
   "cell_type": "code",
   "execution_count": null,
   "id": "6dd069fb",
   "metadata": {},
   "outputs": [],
   "source": [
    "# 5. Benchmark model size and inference latency\n",
    "def bench(onnx_path):\n",
    "    sess = ort.InferenceSession(onnx_path, providers=['CPUExecutionProvider'])\n",
    "    Xp = X_test[:1000].astype(np.float32)\n",
    "    start = time.time()\n",
    "    for _ in range(10):\n",
    "        _ = sess.run(None, {'input':Xp})\n",
    "    return os.path.getsize(onnx_path), (time.time()-start)/10\n",
    "\n",
    "print('FP32:', bench('model_fp32.onnx'))\n",
    "print('INT8:', bench('model_int8.onnx'))\n"
   ]
  },
  {
   "cell_type": "code",
   "execution_count": null,
   "id": "edf0a817",
   "metadata": {},
   "outputs": [],
   "source": [
    "# 6. Streaming inference simulation\n",
    "sess = ort.InferenceSession('model_int8.onnx', providers=['CPUExecutionProvider'])\n",
    "threshold = 0.8\n",
    "for i in range(1000,1050):  # sample stream\n",
    "    x = X_test[i].reshape(1,-1).astype(np.float32)\n",
    "    prob = sess.run(None, {'input': x})[1][0,1]  # assuming classifier outputs class probabilities\n",
    "    if prob > threshold:\n",
    "        print(f'Anomaly at index {i}, score={prob:.2f}')\n"
   ]
  },
  {
   "cell_type": "code",
   "execution_count": null,
   "id": "0fffab62",
   "metadata": {},
   "outputs": [],
   "source": [
    "# 7. Plotting ROC curve\n",
    "from sklearn.metrics import roc_curve, auc\n",
    "y_score = model.predict_proba(X_test)[:,1]\n",
    "fpr, tpr, _ = roc_curve(y_test, y_score)\n",
    "plt.plot(fpr, tpr, label=f\"AUC={auc(fpr,tpr):.2f}\")\n",
    "plt.xlabel('FPR'); plt.ylabel('TPR'); plt.legend(); plt.title('ROC')\n"
   ]
  },
  {
   "cell_type": "code",
   "execution_count": null,
   "id": "46597a19",
   "metadata": {},
   "outputs": [],
   "source": []
  },
  {
   "cell_type": "code",
   "execution_count": null,
   "id": "f83410e3",
   "metadata": {},
   "outputs": [],
   "source": []
  },
  {
   "cell_type": "code",
   "execution_count": null,
   "id": "adfec5ea",
   "metadata": {},
   "outputs": [],
   "source": []
  },
  {
   "cell_type": "code",
   "execution_count": null,
   "id": "e779c910",
   "metadata": {},
   "outputs": [],
   "source": []
  },
  {
   "cell_type": "code",
   "execution_count": null,
   "id": "cda5a9c5",
   "metadata": {},
   "outputs": [],
   "source": []
  }
 ],
 "metadata": {
  "kernelspec": {
   "display_name": "Python 3",
   "language": "python",
   "name": "python3"
  },
  "language_info": {
   "codemirror_mode": {
    "name": "ipython",
    "version": 3
   },
   "file_extension": ".py",
   "mimetype": "text/x-python",
   "name": "python",
   "nbconvert_exporter": "python",
   "pygments_lexer": "ipython3",
   "version": "3.11.9"
  }
 },
 "nbformat": 4,
 "nbformat_minor": 5
}
