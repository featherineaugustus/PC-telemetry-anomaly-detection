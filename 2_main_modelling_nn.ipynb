{
 "cells": [
  {
   "cell_type": "markdown",
   "id": "3d773891",
   "metadata": {},
   "source": [
    "# Load Libraries"
   ]
  },
  {
   "cell_type": "code",
   "execution_count": 6,
   "id": "8ad29280",
   "metadata": {},
   "outputs": [],
   "source": [
    "import warnings\n",
    "warnings.filterwarnings(\"ignore\")\n",
    "\n",
    "import time\n",
    "import os\n",
    "import pickle\n",
    "\n",
    "import numpy as np\n",
    "import pandas as pd\n",
    "import seaborn as sns\n",
    "import matplotlib.pyplot as plt\n",
    "%matplotlib inline\n",
    "\n",
    "from sys import getsizeof\n",
    "from collections import Counter\n",
    "\n",
    "import lightgbm as lgb\n",
    "\n",
    "from sklearn.preprocessing import StandardScaler\n",
    "from sklearn.preprocessing import MinMaxScaler\n",
    "from sklearn.model_selection import train_test_split\n",
    "from sklearn.metrics import precision_recall_fscore_support, roc_auc_score\n",
    "from sklearn.model_selection import train_test_split, GridSearchCV\n",
    "from sklearn.metrics import classification_report, roc_auc_score, confusion_matrix, balanced_accuracy_score\n",
    "from sklearn.metrics import ConfusionMatrixDisplay\n",
    "from sklearn.utils.class_weight import compute_class_weight\n",
    "\n",
    "import torch\n",
    "import torch.nn as nn\n",
    "import torch.nn.functional as F"
   ]
  },
  {
   "cell_type": "code",
   "execution_count": 7,
   "id": "d40f349f",
   "metadata": {},
   "outputs": [],
   "source": [
    "# !pip3 uninstall torch torchvision torchaudio -y"
   ]
  },
  {
   "cell_type": "code",
   "execution_count": 8,
   "id": "105bf803",
   "metadata": {},
   "outputs": [],
   "source": [
    "# !pip3 install torch==2.0.1 torchvision==0.15.2 torchaudio==2.0.2 onnx onnxruntime"
   ]
  },
  {
   "cell_type": "code",
   "execution_count": 9,
   "id": "b38502b9",
   "metadata": {},
   "outputs": [],
   "source": [
    "# import torch\n",
    "# import torch.nn as nn\n",
    "\n",
    "# class DummyModel(nn.Module):\n",
    "#     def forward(self, x):\n",
    "#         return x * 2\n",
    "\n",
    "# model = DummyModel()\n",
    "# dummy_input = torch.randn(1, 3)\n",
    "\n",
    "# torch.onnx.export(model, dummy_input, \"dummy.onnx\")\n",
    "\n",
    "# print(\"ONNX export succeeded!\")"
   ]
  },
  {
   "cell_type": "code",
   "execution_count": null,
   "id": "1677cde8",
   "metadata": {},
   "outputs": [],
   "source": []
  },
  {
   "cell_type": "code",
   "execution_count": null,
   "id": "d8826093",
   "metadata": {},
   "outputs": [],
   "source": []
  },
  {
   "cell_type": "markdown",
   "id": "dca04c33",
   "metadata": {},
   "source": [
    "# Load Data"
   ]
  },
  {
   "cell_type": "code",
   "execution_count": 10,
   "id": "dbbedc88",
   "metadata": {},
   "outputs": [
    {
     "name": "stdout",
     "output_type": "stream",
     "text": [
      "Original Labels: Counter({0: 91084, 1: 8916})\n",
      "Number of machines: 50\n",
      "Updated Labels: Counter({0: 91084, 1: 446})\n"
     ]
    },
    {
     "data": {
      "text/html": [
       "<div>\n",
       "<style scoped>\n",
       "    .dataframe tbody tr th:only-of-type {\n",
       "        vertical-align: middle;\n",
       "    }\n",
       "\n",
       "    .dataframe tbody tr th {\n",
       "        vertical-align: top;\n",
       "    }\n",
       "\n",
       "    .dataframe thead th {\n",
       "        text-align: right;\n",
       "    }\n",
       "</style>\n",
       "<table border=\"1\" class=\"dataframe\">\n",
       "  <thead>\n",
       "    <tr style=\"text-align: right;\">\n",
       "      <th></th>\n",
       "      <th>timestamp</th>\n",
       "      <th>machine_id</th>\n",
       "      <th>temperature</th>\n",
       "      <th>vibration</th>\n",
       "      <th>humidity</th>\n",
       "      <th>pressure</th>\n",
       "      <th>energy_consumption</th>\n",
       "      <th>machine_status</th>\n",
       "      <th>anomaly_flag</th>\n",
       "      <th>predicted_remaining_life</th>\n",
       "      <th>failure_type</th>\n",
       "      <th>downtime_risk</th>\n",
       "      <th>maintenance_required</th>\n",
       "    </tr>\n",
       "  </thead>\n",
       "  <tbody>\n",
       "    <tr>\n",
       "      <th>0</th>\n",
       "      <td>2025-01-01 01:37:00</td>\n",
       "      <td>1</td>\n",
       "      <td>62.59</td>\n",
       "      <td>48.08</td>\n",
       "      <td>60.13</td>\n",
       "      <td>1.62</td>\n",
       "      <td>4.16</td>\n",
       "      <td>1</td>\n",
       "      <td>0</td>\n",
       "      <td>363</td>\n",
       "      <td>Normal</td>\n",
       "      <td>0.0</td>\n",
       "      <td>0</td>\n",
       "    </tr>\n",
       "    <tr>\n",
       "      <th>1</th>\n",
       "      <td>2025-01-01 01:42:00</td>\n",
       "      <td>1</td>\n",
       "      <td>70.88</td>\n",
       "      <td>68.67</td>\n",
       "      <td>50.57</td>\n",
       "      <td>1.05</td>\n",
       "      <td>2.36</td>\n",
       "      <td>1</td>\n",
       "      <td>0</td>\n",
       "      <td>111</td>\n",
       "      <td>Normal</td>\n",
       "      <td>0.0</td>\n",
       "      <td>0</td>\n",
       "    </tr>\n",
       "    <tr>\n",
       "      <th>2</th>\n",
       "      <td>2025-01-01 02:13:00</td>\n",
       "      <td>1</td>\n",
       "      <td>62.34</td>\n",
       "      <td>72.68</td>\n",
       "      <td>60.47</td>\n",
       "      <td>2.24</td>\n",
       "      <td>4.95</td>\n",
       "      <td>1</td>\n",
       "      <td>0</td>\n",
       "      <td>192</td>\n",
       "      <td>Normal</td>\n",
       "      <td>0.0</td>\n",
       "      <td>0</td>\n",
       "    </tr>\n",
       "    <tr>\n",
       "      <th>3</th>\n",
       "      <td>2025-01-01 02:19:00</td>\n",
       "      <td>1</td>\n",
       "      <td>88.03</td>\n",
       "      <td>53.36</td>\n",
       "      <td>50.79</td>\n",
       "      <td>3.08</td>\n",
       "      <td>2.25</td>\n",
       "      <td>1</td>\n",
       "      <td>0</td>\n",
       "      <td>301</td>\n",
       "      <td>Normal</td>\n",
       "      <td>0.0</td>\n",
       "      <td>0</td>\n",
       "    </tr>\n",
       "    <tr>\n",
       "      <th>4</th>\n",
       "      <td>2025-01-01 03:05:00</td>\n",
       "      <td>1</td>\n",
       "      <td>79.39</td>\n",
       "      <td>49.44</td>\n",
       "      <td>56.99</td>\n",
       "      <td>2.54</td>\n",
       "      <td>2.76</td>\n",
       "      <td>1</td>\n",
       "      <td>0</td>\n",
       "      <td>127</td>\n",
       "      <td>Normal</td>\n",
       "      <td>0.0</td>\n",
       "      <td>0</td>\n",
       "    </tr>\n",
       "  </tbody>\n",
       "</table>\n",
       "</div>"
      ],
      "text/plain": [
       "            timestamp  machine_id  temperature  vibration  humidity  pressure  \\\n",
       "0 2025-01-01 01:37:00           1        62.59      48.08     60.13      1.62   \n",
       "1 2025-01-01 01:42:00           1        70.88      68.67     50.57      1.05   \n",
       "2 2025-01-01 02:13:00           1        62.34      72.68     60.47      2.24   \n",
       "3 2025-01-01 02:19:00           1        88.03      53.36     50.79      3.08   \n",
       "4 2025-01-01 03:05:00           1        79.39      49.44     56.99      2.54   \n",
       "\n",
       "   energy_consumption  machine_status  anomaly_flag  predicted_remaining_life  \\\n",
       "0                4.16               1             0                       363   \n",
       "1                2.36               1             0                       111   \n",
       "2                4.95               1             0                       192   \n",
       "3                2.25               1             0                       301   \n",
       "4                2.76               1             0                       127   \n",
       "\n",
       "  failure_type  downtime_risk  maintenance_required  \n",
       "0       Normal            0.0                     0  \n",
       "1       Normal            0.0                     0  \n",
       "2       Normal            0.0                     0  \n",
       "3       Normal            0.0                     0  \n",
       "4       Normal            0.0                     0  "
      ]
     },
     "execution_count": 10,
     "metadata": {},
     "output_type": "execute_result"
    }
   ],
   "source": [
    "# Load dataset \n",
    "data = pd.read_csv('dataset/smart_manufacturing_data.csv', parse_dates=['timestamp'])\n",
    "data = data.sort_values(['machine_id','timestamp']).reset_index(drop=True)\n",
    "print('Original Labels:', Counter(data[\"anomaly_flag\"].tolist()))\n",
    "\n",
    "# Downsample data to get fewer anomalies\n",
    "fraction_to_keep = 0.05\n",
    "data_1 = data[data['anomaly_flag'] == 1].sample(frac=fraction_to_keep, random_state=42)\n",
    "data_not_1 = data[data['anomaly_flag'] != 1]\n",
    "\n",
    "# Combine and shuffle if needed\n",
    "data = pd.concat([data_1, data_not_1]).reset_index(drop=True)\n",
    "data = data.sort_values(['machine_id','timestamp']).reset_index(drop=True)\n",
    "\n",
    "print('Number of machines:', len(set(data['machine_id'].tolist())))\n",
    "print('Updated Labels:', Counter(data[\"anomaly_flag\"].tolist()))\n",
    "data.head(5)"
   ]
  },
  {
   "cell_type": "code",
   "execution_count": null,
   "id": "53641820",
   "metadata": {},
   "outputs": [],
   "source": []
  },
  {
   "cell_type": "markdown",
   "id": "bac29961",
   "metadata": {},
   "source": [
    "# Modeling"
   ]
  },
  {
   "cell_type": "code",
   "execution_count": 11,
   "id": "13b5ef34",
   "metadata": {},
   "outputs": [
    {
     "name": "stdout",
     "output_type": "stream",
     "text": [
      "Train: 73349\n",
      "Test : 18181\n",
      "Train: Counter({0: 73001, 1: 348})\n",
      "Test : Counter({0: 18083, 1: 98})\n"
     ]
    }
   ],
   "source": [
    "# Scale and split features\n",
    "# Split by machines\n",
    "machine_train = list(range(1, 41)) # 1-40\n",
    "machine_test = list(range(41, 51)) # 41-50\n",
    "\n",
    "features = [\"temperature\", \"vibration\", \"humidity\", \"pressure\", \"energy_consumption\"]\n",
    "\n",
    "X_train = data[data['machine_id'].isin(machine_train)][features]\n",
    "X_test = data[data['machine_id'].isin(machine_test)][features]\n",
    "\n",
    "y_train = data[data['machine_id'].isin(machine_train)]['anomaly_flag']\n",
    "y_test = data[data['machine_id'].isin(machine_test)]['anomaly_flag']\n",
    "\n",
    "print('Train:', len(y_train))\n",
    "print('Test :', len(y_test))\n",
    "\n",
    "print('Train:', Counter(y_train))\n",
    "print('Test :', Counter(y_test))"
   ]
  },
  {
   "cell_type": "code",
   "execution_count": 12,
   "id": "9d01fd0b",
   "metadata": {},
   "outputs": [],
   "source": [
    "# scaler = MinMaxScaler()\n",
    "scaler = StandardScaler()\n",
    "X_train = scaler.fit_transform(X_train)\n",
    "X_test = scaler.transform(X_test)"
   ]
  },
  {
   "cell_type": "code",
   "execution_count": 13,
   "id": "ba2d727d",
   "metadata": {},
   "outputs": [
    {
     "name": "stdout",
     "output_type": "stream",
     "text": [
      "[  0.50238353 105.38649425]\n"
     ]
    }
   ],
   "source": [
    "# Compute weights: class 0 = normal, class 1 = anomaly\n",
    "classes = np.unique(y_train)\n",
    "weights = compute_class_weight(class_weight='balanced', classes=classes, y=y_train)\n",
    "print(weights)\n",
    "\n",
    "# Convert to tensor\n",
    "class_weights = torch.tensor(weights, dtype=torch.float32)"
   ]
  },
  {
   "cell_type": "code",
   "execution_count": 15,
   "id": "3bc24bd5",
   "metadata": {},
   "outputs": [],
   "source": [
    "# Model\n",
    "class AnomalyMLP(nn.Module):\n",
    "    def __init__(self, input_size):\n",
    "        super().__init__()\n",
    "        self.fc1 = nn.Linear(input_size, 32)\n",
    "        self.fc2 = nn.Linear(32, 16)\n",
    "        self.out = nn.Linear(16, 1)\n",
    "\n",
    "    def forward(self, x):\n",
    "        x = F.relu(self.fc1(x))\n",
    "        x = F.relu(self.fc2(x))\n",
    "        return torch.sigmoid(self.out(x))  # Binary classification\n",
    "    \n",
    "model = AnomalyMLP(input_size=X_train.shape[1])\n",
    "criterion = torch.nn.BCEWithLogitsLoss(pos_weight=class_weights[1])\n",
    "optimizer = torch.optim.Adam(model.parameters(), lr=0.001)\n",
    "\n",
    "# Convert your data to torch tensors\n",
    "X_tensor = torch.tensor(X_train, dtype=torch.float32)\n",
    "y_tensor = torch.tensor(y_train, dtype=torch.float32).unsqueeze(1)"
   ]
  },
  {
   "cell_type": "code",
   "execution_count": null,
   "id": "25a6b282",
   "metadata": {},
   "outputs": [],
   "source": [
    "# Train\n",
    "num_epochs = 2000\n",
    "for epoch in range(num_epochs):\n",
    "    optimizer.zero_grad()\n",
    "    output = model(X_tensor)\n",
    "    loss = criterion(output, y_tensor)\n",
    "    loss.backward()\n",
    "    optimizer.step()\n",
    "    \n",
    "    if (epoch+1)%100 == 0:\n",
    "        print(f\"Epoch {epoch+1}/{num_epochs}, Loss: {loss.item():.4f}\")"
   ]
  },
  {
   "cell_type": "code",
   "execution_count": 15,
   "id": "776f91db",
   "metadata": {},
   "outputs": [],
   "source": [
    "model.eval()\n",
    "with torch.no_grad():\n",
    "    X_tensor  = torch.tensor(X_test, dtype=torch.float32)\n",
    "    y_prob  = model(X_tensor).numpy()\n",
    "    y_pred = (y_prob > 0.5).astype(int)  # threshold to get class labels"
   ]
  },
  {
   "cell_type": "code",
   "execution_count": 16,
   "id": "692a6098",
   "metadata": {},
   "outputs": [
    {
     "name": "stdout",
     "output_type": "stream",
     "text": [
      "Classification Report:\n",
      "               precision    recall  f1-score   support\n",
      "\n",
      "           0       1.00      1.00      1.00     18083\n",
      "           1       0.70      0.99      0.82        98\n",
      "\n",
      "    accuracy                           1.00     18181\n",
      "   macro avg       0.85      0.99      0.91     18181\n",
      "weighted avg       1.00      1.00      1.00     18181\n",
      "\n",
      "PRE=0.70, REC=0.99, F1=0.82, AUC=1.00\n"
     ]
    },
    {
     "data": {
      "image/png": "[encoded data removed]",
      "text/plain": [
       "<Figure size 500x500 with 2 Axes>"
      ]
     },
     "metadata": {},
     "output_type": "display_data"
    },
    {
     "data": {
      "image/png": "[encoded data removed]",
      "text/plain": [
       "<Figure size 500x500 with 2 Axes>"
      ]
     },
     "metadata": {},
     "output_type": "display_data"
    }
   ],
   "source": [
    "prec, rec, f1, _ = precision_recall_fscore_support(y_test, y_pred,average='binary')\n",
    "print(\"Classification Report:\\n\", classification_report(y_test, y_pred))\n",
    "\n",
    "results = f'PRE={prec:.2f}, REC={rec:.2f}, F1={f1:.2f}, AUC={roc_auc_score(y_test, y_prob):.2f}'\n",
    "print(results)\n",
    "\n",
    "cm = confusion_matrix(y_test, y_pred)\n",
    "disp = ConfusionMatrixDisplay(confusion_matrix=cm, display_labels=['Normal', 'Abnormal'])\n",
    "fig, ax = plt.subplots(figsize=(5, 5))\n",
    "disp.plot(cmap=plt.cm.Blues, ax=ax)\n",
    "plt.title(f\"Confusion Matrix\\n{results}\")\n",
    "plt.savefig('results/nn/nn_cm.png')\n",
    "plt.show()\n",
    "\n",
    "# Normalize by true labels (rows)\n",
    "cm_normalized = cm.astype('float') / cm.sum(axis=1)[:, np.newaxis]\n",
    "disp = ConfusionMatrixDisplay(confusion_matrix=cm_normalized, display_labels=['Normal', 'Abnormal'])\n",
    "fig, ax = plt.subplots(figsize=(5, 5))\n",
    "disp.plot(cmap=plt.cm.Blues, ax=ax, values_format='.2%')\n",
    "plt.title(f\"Confusion Matrix (Normalized)\\n{results}\")\n",
    "plt.savefig('results/nn/nn_cm_normalized.png')\n",
    "plt.show()\n",
    "\n",
    "# Saving model\n",
    "torch.save(model.state_dict(), \"models/nn_model.pth\")"
   ]
  },
  {
   "cell_type": "code",
   "execution_count": 18,
   "id": "587372d7",
   "metadata": {},
   "outputs": [
    {
     "data": {
      "image/png": "[encoded data removed]",
      "text/plain": [
       "<Figure size 500x300 with 1 Axes>"
      ]
     },
     "metadata": {},
     "output_type": "display_data"
    }
   ],
   "source": [
    "# Testing model speed\n",
    "list_compute_time = []\n",
    "\n",
    "for X_sample in X_test[:1000]:\n",
    "    start = time.time()\n",
    "    \n",
    "    with torch.no_grad():\n",
    "        X_tensor  = torch.tensor(X_sample, dtype=torch.float32)\n",
    "        y_prob  = model(X_tensor).numpy()\n",
    "        y_pred = (y_prob > 0.5).astype(int)  # threshold to get class labels\n",
    "    end = time.time()\n",
    "    compute_time = end-start\n",
    "    list_compute_time.append(compute_time)\n",
    "\n",
    "list_compute_time = [x*1e3 for x in list_compute_time]\n",
    "\n",
    "mean_time = np.mean(list_compute_time)\n",
    "median_time = np.median(list_compute_time)\n",
    "std_dev_time = np.std(list_compute_time)\n",
    "\n",
    "# Display the results\n",
    "results = f\"Mean: {mean_time:.3f}ms - Median: {median_time:.3f}ms - SD: {std_dev_time:.3f}ms\"\n",
    "\n",
    "# Plotting the histogram\n",
    "plt.figure(figsize=(5, 3))\n",
    "plt.hist(list_compute_time, bins=50, edgecolor='black', color='lightgreen')\n",
    "plt.title(f'Distribution of Model Run Times\\n{results}')\n",
    "plt.xlabel('Time (ms)')\n",
    "plt.ylabel('Frequency')\n",
    "plt.grid(True)\n",
    "plt.savefig('results/nn/nn_run_time.png')\n",
    "plt.tight_layout()\n",
    "plt.show()"
   ]
  },
  {
   "cell_type": "code",
   "execution_count": null,
   "id": "3313a75f",
   "metadata": {},
   "outputs": [],
   "source": []
  },
  {
   "cell_type": "code",
   "execution_count": null,
   "id": "84c74e59",
   "metadata": {},
   "outputs": [],
   "source": []
  },
  {
   "cell_type": "markdown",
   "id": "8d7aa2ec",
   "metadata": {},
   "source": [
    "# Modelling (ONNX)"
   ]
  },
  {
   "cell_type": "code",
   "execution_count": 16,
   "id": "5f868400",
   "metadata": {},
   "outputs": [
    {
     "data": {
      "text/plain": [
       "AnomalyMLP(\n",
       "  (fc1): Linear(in_features=5, out_features=32, bias=True)\n",
       "  (fc2): Linear(in_features=32, out_features=16, bias=True)\n",
       "  (out): Linear(in_features=16, out_features=1, bias=True)\n",
       ")"
      ]
     },
     "execution_count": 16,
     "metadata": {},
     "output_type": "execute_result"
    }
   ],
   "source": [
    "model = AnomalyMLP(X_train.shape[1])\n",
    "model.load_state_dict(torch.load(\"models/nn_model.pth\"))\n",
    "model.eval()"
   ]
  },
  {
   "cell_type": "code",
   "execution_count": 17,
   "id": "394f52bb",
   "metadata": {},
   "outputs": [
    {
     "name": "stdout",
     "output_type": "stream",
     "text": [
      "============== Diagnostic Run torch.onnx.export version 2.0.1+cpu ==============\n",
      "verbose: False, log level: Level.ERROR\n",
      "======================= 0 NONE 0 NOTE 0 WARNING 0 ERROR ========================\n",
      "\n"
     ]
    }
   ],
   "source": [
    "dummy_input = torch.randn(1, X_train.shape[1])\n",
    "torch.onnx.export(model, dummy_input, \"models/nn_model.onnx\", opset_version=11)"
   ]
  },
  {
   "cell_type": "code",
   "execution_count": null,
   "id": "47495423",
   "metadata": {},
   "outputs": [
    {
     "ename": "ImportError",
     "evalue": "DLL load failed while importing onnxruntime_pybind11_state: A dynamic link library (DLL) initialization routine failed.",
     "output_type": "error",
     "traceback": [
      "\u001b[1;31m---------------------------------------------------------------------------\u001b[0m",
      "\u001b[1;31mImportError\u001b[0m                               Traceback (most recent call last)",
      "Cell \u001b[1;32mIn[18], line 1\u001b[0m\n\u001b[1;32m----> 1\u001b[0m \u001b[38;5;28;01mfrom\u001b[39;00m \u001b[38;5;21;01monnxruntime\u001b[39;00m\u001b[38;5;21;01m.\u001b[39;00m\u001b[38;5;21;01mquantization\u001b[39;00m \u001b[38;5;28;01mimport\u001b[39;00m quantize_dynamic, QuantType\n",
      "File \u001b[1;32m~\\AppData\\Local\\Packages\\PythonSoftwareFoundation.Python.3.11_qbz5n2kfra8p0\\LocalCache\\local-packages\\Python311\\site-packages\\onnxruntime\\__init__.py:61\u001b[0m\n\u001b[0;32m     58\u001b[0m \u001b[38;5;28;01mfrom\u001b[39;00m \u001b[38;5;21;01monnxruntime\u001b[39;00m\u001b[38;5;21;01m.\u001b[39;00m\u001b[38;5;21;01mcapi\u001b[39;00m \u001b[38;5;28;01mimport\u001b[39;00m onnxruntime_validation\n\u001b[0;32m     60\u001b[0m \u001b[38;5;28;01mif\u001b[39;00m import_capi_exception:\n\u001b[1;32m---> 61\u001b[0m     \u001b[38;5;28;01mraise\u001b[39;00m import_capi_exception\n\u001b[0;32m     63\u001b[0m \u001b[38;5;28;01mfrom\u001b[39;00m \u001b[38;5;21;01monnxruntime\u001b[39;00m\u001b[38;5;21;01m.\u001b[39;00m\u001b[38;5;21;01mcapi\u001b[39;00m\u001b[38;5;21;01m.\u001b[39;00m\u001b[38;5;21;01monnxruntime_inference_collection\u001b[39;00m \u001b[38;5;28;01mimport\u001b[39;00m (\n\u001b[0;32m     64\u001b[0m     AdapterFormat,  \u001b[38;5;66;03m# noqa: F401\u001b[39;00m\n\u001b[0;32m     65\u001b[0m     InferenceSession,  \u001b[38;5;66;03m# noqa: F401\u001b[39;00m\n\u001b[1;32m   (...)\u001b[0m\n\u001b[0;32m     69\u001b[0m     SparseTensor,  \u001b[38;5;66;03m# noqa: F401\u001b[39;00m\n\u001b[0;32m     70\u001b[0m )\n\u001b[0;32m     72\u001b[0m \u001b[38;5;66;03m# TODO: thiagofc: Temporary experimental namespace for new PyTorch front-end\u001b[39;00m\n",
      "File \u001b[1;32m~\\AppData\\Local\\Packages\\PythonSoftwareFoundation.Python.3.11_qbz5n2kfra8p0\\LocalCache\\local-packages\\Python311\\site-packages\\onnxruntime\\__init__.py:24\u001b[0m\n\u001b[0;32m     14\u001b[0m \u001b[38;5;66;03m# we need to do device version validation (for example to check Cuda version for an onnxruntime-training package).\u001b[39;00m\n\u001b[0;32m     15\u001b[0m \u001b[38;5;66;03m# in order to know whether the onnxruntime package is for training it needs\u001b[39;00m\n\u001b[0;32m     16\u001b[0m \u001b[38;5;66;03m# to do import onnxruntime.training.ortmodule first.\u001b[39;00m\n\u001b[1;32m   (...)\u001b[0m\n\u001b[0;32m     21\u001b[0m \u001b[38;5;66;03m# meaningful messages to the user.\u001b[39;00m\n\u001b[0;32m     22\u001b[0m \u001b[38;5;66;03m# the saved exception is raised after device version validation.\u001b[39;00m\n\u001b[0;32m     23\u001b[0m \u001b[38;5;28;01mtry\u001b[39;00m:\n\u001b[1;32m---> 24\u001b[0m     \u001b[38;5;28;01mfrom\u001b[39;00m \u001b[38;5;21;01monnxruntime\u001b[39;00m\u001b[38;5;21;01m.\u001b[39;00m\u001b[38;5;21;01mcapi\u001b[39;00m\u001b[38;5;21;01m.\u001b[39;00m\u001b[38;5;21;01m_pybind_state\u001b[39;00m \u001b[38;5;28;01mimport\u001b[39;00m (\n\u001b[0;32m     25\u001b[0m         ExecutionMode,  \u001b[38;5;66;03m# noqa: F401\u001b[39;00m\n\u001b[0;32m     26\u001b[0m         ExecutionOrder,  \u001b[38;5;66;03m# noqa: F401\u001b[39;00m\n\u001b[0;32m     27\u001b[0m         GraphOptimizationLevel,  \u001b[38;5;66;03m# noqa: F401\u001b[39;00m\n\u001b[0;32m     28\u001b[0m         LoraAdapter,  \u001b[38;5;66;03m# noqa: F401\u001b[39;00m\n\u001b[0;32m     29\u001b[0m         ModelMetadata,  \u001b[38;5;66;03m# noqa: F401\u001b[39;00m\n\u001b[0;32m     30\u001b[0m         NodeArg,  \u001b[38;5;66;03m# noqa: F401\u001b[39;00m\n\u001b[0;32m     31\u001b[0m         OrtAllocatorType,  \u001b[38;5;66;03m# noqa: F401\u001b[39;00m\n\u001b[0;32m     32\u001b[0m         OrtArenaCfg,  \u001b[38;5;66;03m# noqa: F401\u001b[39;00m\n\u001b[0;32m     33\u001b[0m         OrtMemoryInfo,  \u001b[38;5;66;03m# noqa: F401\u001b[39;00m\n\u001b[0;32m     34\u001b[0m         OrtMemType,  \u001b[38;5;66;03m# noqa: F401\u001b[39;00m\n\u001b[0;32m     35\u001b[0m         OrtSparseFormat,  \u001b[38;5;66;03m# noqa: F401\u001b[39;00m\n\u001b[0;32m     36\u001b[0m         RunOptions,  \u001b[38;5;66;03m# noqa: F401\u001b[39;00m\n\u001b[0;32m     37\u001b[0m         SessionIOBinding,  \u001b[38;5;66;03m# noqa: F401\u001b[39;00m\n\u001b[0;32m     38\u001b[0m         SessionOptions,  \u001b[38;5;66;03m# noqa: F401\u001b[39;00m\n\u001b[0;32m     39\u001b[0m         create_and_register_allocator,  \u001b[38;5;66;03m# noqa: F401\u001b[39;00m\n\u001b[0;32m     40\u001b[0m         create_and_register_allocator_v2,  \u001b[38;5;66;03m# noqa: F401\u001b[39;00m\n\u001b[0;32m     41\u001b[0m         disable_telemetry_events,  \u001b[38;5;66;03m# noqa: F401\u001b[39;00m\n\u001b[0;32m     42\u001b[0m         enable_telemetry_events,  \u001b[38;5;66;03m# noqa: F401\u001b[39;00m\n\u001b[0;32m     43\u001b[0m         get_all_providers,  \u001b[38;5;66;03m# noqa: F401\u001b[39;00m\n\u001b[0;32m     44\u001b[0m         get_available_providers,  \u001b[38;5;66;03m# noqa: F401\u001b[39;00m\n\u001b[0;32m     45\u001b[0m         get_build_info,  \u001b[38;5;66;03m# noqa: F401\u001b[39;00m\n\u001b[0;32m     46\u001b[0m         get_device,  \u001b[38;5;66;03m# noqa: F401\u001b[39;00m\n\u001b[0;32m     47\u001b[0m         get_version_string,  \u001b[38;5;66;03m# noqa: F401\u001b[39;00m\n\u001b[0;32m     48\u001b[0m         has_collective_ops,  \u001b[38;5;66;03m# noqa: F401\u001b[39;00m\n\u001b[0;32m     49\u001b[0m         set_default_logger_severity,  \u001b[38;5;66;03m# noqa: F401\u001b[39;00m\n\u001b[0;32m     50\u001b[0m         set_default_logger_verbosity,  \u001b[38;5;66;03m# noqa: F401\u001b[39;00m\n\u001b[0;32m     51\u001b[0m         set_seed,  \u001b[38;5;66;03m# noqa: F401\u001b[39;00m\n\u001b[0;32m     52\u001b[0m     )\n\u001b[0;32m     54\u001b[0m     import_capi_exception \u001b[38;5;241m=\u001b[39m \u001b[38;5;28;01mNone\u001b[39;00m\n\u001b[0;32m     55\u001b[0m \u001b[38;5;28;01mexcept\u001b[39;00m \u001b[38;5;167;01mException\u001b[39;00m \u001b[38;5;28;01mas\u001b[39;00m e:\n",
      "File \u001b[1;32m~\\AppData\\Local\\Packages\\PythonSoftwareFoundation.Python.3.11_qbz5n2kfra8p0\\LocalCache\\local-packages\\Python311\\site-packages\\onnxruntime\\capi\\_pybind_state.py:32\u001b[0m\n\u001b[0;32m     24\u001b[0m         \u001b[38;5;28;01mif\u001b[39;00m \u001b[38;5;129;01mnot\u001b[39;00m os\u001b[38;5;241m.\u001b[39mpath\u001b[38;5;241m.\u001b[39misfile(os\u001b[38;5;241m.\u001b[39mpath\u001b[38;5;241m.\u001b[39mjoin(system_root, \u001b[38;5;124m\"\u001b[39m\u001b[38;5;124mSystem32\u001b[39m\u001b[38;5;124m\"\u001b[39m, \u001b[38;5;124m\"\u001b[39m\u001b[38;5;124mvcruntime140_1.dll\u001b[39m\u001b[38;5;124m\"\u001b[39m)):\n\u001b[0;32m     25\u001b[0m             warnings\u001b[38;5;241m.\u001b[39mwarn(\u001b[38;5;124m\"\u001b[39m\u001b[38;5;124mPlease install the 2019 Visual C++ runtime and then try again. \u001b[39m\u001b[38;5;124m\"\u001b[39m\n\u001b[0;32m     26\u001b[0m                           \u001b[38;5;124m\"\u001b[39m\u001b[38;5;124mIf you\u001b[39m\u001b[38;5;124m'\u001b[39m\u001b[38;5;124mve installed the runtime in a non-standard location \u001b[39m\u001b[38;5;124m\"\u001b[39m\n\u001b[0;32m     27\u001b[0m                           \u001b[38;5;124m\"\u001b[39m\u001b[38;5;124m(other than \u001b[39m\u001b[38;5;124m%\u001b[39m\u001b[38;5;124mSystemRoot\u001b[39m\u001b[38;5;124m%\u001b[39m\u001b[38;5;130;01m\\\\\u001b[39;00m\u001b[38;5;124mSystem32), \u001b[39m\u001b[38;5;124m\"\u001b[39m\n\u001b[0;32m     28\u001b[0m                           \u001b[38;5;124m\"\u001b[39m\u001b[38;5;124mmake sure it can be found by setting the correct path.\u001b[39m\u001b[38;5;124m\"\u001b[39m)\n\u001b[1;32m---> 32\u001b[0m \u001b[38;5;28;01mfrom\u001b[39;00m \u001b[38;5;21;01m.\u001b[39;00m\u001b[38;5;21;01monnxruntime_pybind11_state\u001b[39;00m \u001b[38;5;28;01mimport\u001b[39;00m \u001b[38;5;241m*\u001b[39m  \u001b[38;5;66;03m# noqa\u001b[39;00m\n",
      "\u001b[1;31mImportError\u001b[0m: DLL load failed while importing onnxruntime_pybind11_state: A dynamic link library (DLL) initialization routine failed."
     ]
    }
   ],
   "source": [
    "from onnxruntime.quantization import quantize_dynamic, QuantType\n",
    "\n",
    "quantize_dynamic(\n",
    "    model_input=\"models/nn_model.onnx\",\n",
    "    model_output=\"models/nn_model_quantized.onnx\",\n",
    "    weight_type=QuantType.QInt8  # or QuantType.QUInt8\n",
    ")"
   ]
  },
  {
   "cell_type": "code",
   "execution_count": null,
   "id": "73ce792c",
   "metadata": {},
   "outputs": [],
   "source": []
  },
  {
   "cell_type": "code",
   "execution_count": null,
   "id": "8182ce9b",
   "metadata": {},
   "outputs": [],
   "source": []
  },
  {
   "cell_type": "code",
   "execution_count": null,
   "id": "3d630a34",
   "metadata": {},
   "outputs": [],
   "source": []
  },
  {
   "cell_type": "code",
   "execution_count": null,
   "id": "937aaba4",
   "metadata": {},
   "outputs": [],
   "source": []
  },
  {
   "cell_type": "code",
   "execution_count": 1,
   "id": "c8d74eeb",
   "metadata": {},
   "outputs": [],
   "source": [
    "import onnx\n",
    "onnx_model = onnx.load(\"models/nn_model.onnx\")\n",
    "# onnx.checker.check_model(onnx_model)"
   ]
  },
  {
   "cell_type": "code",
   "execution_count": 4,
   "id": "1d54a5a6",
   "metadata": {},
   "outputs": [
    {
     "name": "stdout",
     "output_type": "stream",
     "text": [
      "ONNX file size: 41293 bytes\n"
     ]
    }
   ],
   "source": [
    "import os\n",
    "print(f\"ONNX file size: {os.path.getsize('models/nn_model.onnx')} bytes\")"
   ]
  },
  {
   "cell_type": "code",
   "execution_count": null,
   "id": "dbcae1aa",
   "metadata": {},
   "outputs": [],
   "source": [
    "onnx_model = onnx.load(\"models/nn_model.onnx\")\n",
    "onnx.checker.check_model(onnx_model)"
   ]
  },
  {
   "cell_type": "code",
   "execution_count": null,
   "id": "8be7a117",
   "metadata": {},
   "outputs": [],
   "source": [
    "import os\n",
    "print(\"ONNX model size (MB):\", os.path.getsize(\"models/nn_model.onnx\") / (1024 * 1024))"
   ]
  },
  {
   "cell_type": "code",
   "execution_count": null,
   "id": "e489a018",
   "metadata": {},
   "outputs": [],
   "source": []
  },
  {
   "cell_type": "code",
   "execution_count": null,
   "id": "edad059e",
   "metadata": {},
   "outputs": [],
   "source": [
    "import torch.onnx"
   ]
  },
  {
   "cell_type": "code",
   "execution_count": null,
   "id": "e19bc6b6",
   "metadata": {},
   "outputs": [],
   "source": []
  },
  {
   "cell_type": "code",
   "execution_count": null,
   "id": "5ebf0094",
   "metadata": {},
   "outputs": [],
   "source": [
    "import onnx\n",
    "onnx_model = onnx.load(\"models/nn_model.onnx\")\n",
    "onnx.checker.check_model(onnx_model)"
   ]
  },
  {
   "cell_type": "code",
   "execution_count": null,
   "id": "db622c54",
   "metadata": {},
   "outputs": [],
   "source": [
    "# from onnxruntime.quantization import quantize_dynamic, QuantType\n",
    "\n",
    "# quantize_dynamic(\n",
    "#     model_input=\"models/nn_model.onnx\",\n",
    "#     model_output=\"models/nn_model_quantized.onnx\",\n",
    "#     weight_type=QuantType.QInt8  # or QuantType.QUInt8\n",
    "# )"
   ]
  },
  {
   "cell_type": "code",
   "execution_count": null,
   "id": "4727a669",
   "metadata": {},
   "outputs": [],
   "source": [
    "import onnxruntime as ort\n",
    "import numpy as np\n",
    "\n",
    "# Load model\n",
    "session = ort.InferenceSession(\"models/nn_model.onnx\",)\n",
    "\n",
    "# Inference on test set\n",
    "y_prob_onnx = []\n",
    "for x in X_test:\n",
    "    input_data = x.astype(np.float32).reshape(1, -1)\n",
    "    output = session.run([\"output\"], {\"input\": input_data})\n",
    "    y_prob_onnx.append(output[0][0][0])\n",
    "\n",
    "# Convert to class prediction\n",
    "y_pred_onnx = (np.array(y_prob_onnx) > 0.5).astype(int)"
   ]
  },
  {
   "cell_type": "code",
   "execution_count": null,
   "id": "cea27823",
   "metadata": {},
   "outputs": [],
   "source": []
  },
  {
   "cell_type": "code",
   "execution_count": null,
   "id": "155b632a",
   "metadata": {},
   "outputs": [],
   "source": []
  },
  {
   "cell_type": "code",
   "execution_count": null,
   "id": "e04b3b77",
   "metadata": {},
   "outputs": [],
   "source": []
  },
  {
   "cell_type": "code",
   "execution_count": null,
   "id": "e5fe4989",
   "metadata": {},
   "outputs": [],
   "source": [
    "# Testing model speed\n",
    "list_compute_time = []\n",
    "\n",
    "for X_sample in X_test[:1000]:\n",
    "    start = time.time()\n",
    "    y_pred = clf.predict([X_sample])\n",
    "    end = time.time()\n",
    "    compute_time = end-start\n",
    "    list_compute_time.append(compute_time)\n",
    "\n",
    "list_compute_time = [x*1e3 for x in list_compute_time]\n",
    "\n",
    "mean_time = np.mean(list_compute_time)\n",
    "median_time = np.median(list_compute_time)\n",
    "std_dev_time = np.std(list_compute_time)\n",
    "\n",
    "# Display the results\n",
    "results = f\"Mean: {mean_time:.2f}ms - Median: {median_time:.2f}ms - SD: {std_dev_time:.2f}ms\"\n",
    "\n",
    "# Plotting the histogram\n",
    "plt.figure(figsize=(5, 3))\n",
    "plt.hist(list_compute_time, bins=50, edgecolor='black', color='lightgreen')\n",
    "plt.title(f'Distribution of Model Run Times\\n{results}')\n",
    "plt.xlabel('Time (ms)')\n",
    "plt.ylabel('Frequency')\n",
    "plt.grid(True)\n",
    "plt.savefig('results/lgbm/lgbm_run_time.png')\n",
    "plt.tight_layout()\n",
    "plt.show()"
   ]
  },
  {
   "cell_type": "code",
   "execution_count": null,
   "id": "c02454d3",
   "metadata": {},
   "outputs": [],
   "source": []
  },
  {
   "cell_type": "code",
   "execution_count": null,
   "id": "b5d622a2",
   "metadata": {},
   "outputs": [],
   "source": []
  },
  {
   "cell_type": "markdown",
   "id": "a1c51f40",
   "metadata": {},
   "source": [
    "# Modelling (Optimize)"
   ]
  },
  {
   "cell_type": "code",
   "execution_count": null,
   "id": "1d930dc3",
   "metadata": {},
   "outputs": [],
   "source": [
    "# Scale and split features\n",
    "# Split by machines\n",
    "machine_train = list(range(1, 41)) # 1-40\n",
    "machine_test = list(range(41, 51)) # 41-50\n",
    "\n",
    "features = [\"temperature\", \"vibration\", \"humidity\", \"pressure\"] # \"energy_consumption\"\n",
    "\n",
    "X_train = data[data['machine_id'].isin(machine_train)][features]\n",
    "X_test = data[data['machine_id'].isin(machine_test)][features]\n",
    "\n",
    "y_train = data[data['machine_id'].isin(machine_train)]['anomaly_flag']\n",
    "y_test = data[data['machine_id'].isin(machine_test)]['anomaly_flag']\n",
    "\n",
    "print('Train:', len(y_train))\n",
    "print('Test :', len(y_test))\n",
    "\n",
    "print('Train:', Counter(y_train))\n",
    "print('Test :', Counter(y_test))"
   ]
  },
  {
   "cell_type": "code",
   "execution_count": null,
   "id": "02262beb",
   "metadata": {},
   "outputs": [],
   "source": [
    "# scaler = MinMaxScaler()\n",
    "scaler = StandardScaler()\n",
    "X_train = scaler.fit_transform(X_train)\n",
    "X_test = scaler.transform(X_test)"
   ]
  },
  {
   "cell_type": "code",
   "execution_count": null,
   "id": "61775023",
   "metadata": {},
   "outputs": [],
   "source": [
    "# 3. Train LightGBM binary classifier\n",
    "pos_weight = (y_train == 0).sum() / (y_train == 1).sum() * 10\n",
    "print('Weight:', pos_weight)\n",
    "\n",
    "param_grid = {\n",
    "    'num_leaves': [5, 10],\n",
    "    'learning_rate': [0.01, 0.1],\n",
    "}\n",
    "\n",
    "model = lgb.LGBMClassifier(scale_pos_weight=pos_weight)\n",
    "clf = GridSearchCV(estimator=model, param_grid=param_grid, scoring='f1', cv=5)\n",
    "clf.fit(X_train, y_train)\n",
    "\n",
    "best_params = clf.best_params_\n",
    "print(\"Best hyperparameters:\", best_params)\n",
    "\n",
    "y_pred = clf.predict(X_test)\n",
    "prec, rec, f1, _ = precision_recall_fscore_support(y_test,y_pred,average='binary')\n",
    "print(\"Classification Report:\\n\", classification_report(y_test, y_pred))\n",
    "\n",
    "results = f'PRE={prec:.2f}, REC={rec:.2f}, F1={f1:.2f}, AUC={roc_auc_score(y_test,clf.predict_proba(X_test)[:,1]):.2f}'\n",
    "print(results)\n",
    "\n",
    "cm = confusion_matrix(y_test, y_pred)\n",
    "disp = ConfusionMatrixDisplay(confusion_matrix=cm, display_labels=['Normal', 'Abnormal'])\n",
    "fig, ax = plt.subplots(figsize=(5, 5))\n",
    "disp.plot(cmap=plt.cm.Blues, ax=ax)\n",
    "plt.title(f\"Confusion Matrix\\n{results}\")\n",
    "plt.savefig('results/lgbm/lgbm_s_cm.png')\n",
    "plt.show()\n",
    "\n",
    "# Normalize by true labels (rows)\n",
    "cm_normalized = cm.astype('float') / cm.sum(axis=1)[:, np.newaxis]\n",
    "disp = ConfusionMatrixDisplay(confusion_matrix=cm_normalized, display_labels=['Normal', 'Abnormal'])\n",
    "fig, ax = plt.subplots(figsize=(5, 5))\n",
    "disp.plot(cmap=plt.cm.Blues, ax=ax, values_format='.2%')\n",
    "plt.title(f\"Confusion Matrix (Normalized)\\n{results}\")\n",
    "plt.savefig('results/lgbm/lgbm_s_cm_normalized.png')\n",
    "plt.show()\n",
    "\n",
    "# Feature importance\n",
    "importances = clf.best_estimator_.feature_importances_\n",
    "feat_imp = pd.Series(importances, index=features).sort_values(ascending=False)\n",
    "feat_imp.plot(kind='bar', figsize=(6, 3))\n",
    "plt.title(\"LGBM Feature Importances\")\n",
    "plt.savefig('results/lgbm/lgbm_s_feature_importance.png')\n",
    "plt.show()\n",
    "\n",
    "# Saving model\n",
    "with open('models/model_lgbm.pkl', 'wb') as f:\n",
    "    pickle.dump(clf, f)"
   ]
  },
  {
   "cell_type": "code",
   "execution_count": null,
   "id": "c47c5e8e",
   "metadata": {},
   "outputs": [],
   "source": [
    "list_compute_time_org = list_compute_time.copy()\n",
    "\n",
    "# Testing model speed\n",
    "list_compute_time = []\n",
    "\n",
    "for X_sample in X_test[:1000]:\n",
    "    start = time.time()\n",
    "    y_pred = clf.predict([X_sample])\n",
    "    end = time.time()\n",
    "    compute_time = end-start\n",
    "    list_compute_time.append(compute_time)\n",
    "\n",
    "list_compute_time = [x*1e3 for x in list_compute_time]\n",
    "\n",
    "mean_time = np.mean(list_compute_time)\n",
    "median_time = np.median(list_compute_time)\n",
    "std_dev_time = np.std(list_compute_time)\n",
    "\n",
    "# Display the results\n",
    "results = f\"Mean: {mean_time:.2f}ms - Median: {median_time:.2f}ms - SD: {std_dev_time:.2f}ms\"\n",
    "\n",
    "# Plotting the histogram\n",
    "plt.figure(figsize=(5, 3))\n",
    "plt.hist(list_compute_time, bins=50, edgecolor='black', color='lightgreen')\n",
    "plt.title(f'Distribution of Model Run Times\\n{results}')\n",
    "plt.xlabel('Time (ms)')\n",
    "plt.ylabel('Frequency')\n",
    "plt.grid(True)\n",
    "plt.savefig('results/lgbm/lgbm_s_run_time.png')\n",
    "plt.tight_layout()\n",
    "plt.show()"
   ]
  },
  {
   "cell_type": "code",
   "execution_count": null,
   "id": "b4a61ef1",
   "metadata": {},
   "outputs": [],
   "source": []
  },
  {
   "cell_type": "code",
   "execution_count": null,
   "id": "761834a8",
   "metadata": {},
   "outputs": [],
   "source": [
    "# Plotting the histogram\n",
    "plt.figure(figsize=(5, 5))\n",
    "bins = np.histogram_bin_edges(np.concatenate([list_compute_time_org, list_compute_time]), bins=50)\n",
    "plt.hist(list_compute_time_org, bins=bins, edgecolor='black', color='red', alpha=0.5, label='Original')\n",
    "plt.hist(list_compute_time, bins=bins, edgecolor='black', color='blue', alpha=0.5, label='Optimized')\n",
    "plt.title('Distribution of Model Run Times')\n",
    "plt.xlabel('Time (micro-seconds)')\n",
    "plt.ylabel('Frequency')\n",
    "plt.grid(True)\n",
    "plt.savefig('results/lgbm/lgbm_compare_run_time.png')\n",
    "plt.show()"
   ]
  },
  {
   "cell_type": "code",
   "execution_count": null,
   "id": "cda5a9c5",
   "metadata": {},
   "outputs": [],
   "source": []
  },
  {
   "cell_type": "code",
   "execution_count": null,
   "id": "c0f064ba",
   "metadata": {},
   "outputs": [],
   "source": []
  },
  {
   "cell_type": "code",
   "execution_count": null,
   "id": "19471a2c",
   "metadata": {},
   "outputs": [],
   "source": []
  },
  {
   "cell_type": "code",
   "execution_count": null,
   "id": "77e34afa",
   "metadata": {},
   "outputs": [],
   "source": []
  },
  {
   "cell_type": "code",
   "execution_count": null,
   "id": "fcd804d9",
   "metadata": {},
   "outputs": [],
   "source": []
  },
  {
   "cell_type": "code",
   "execution_count": null,
   "id": "c1be5c00",
   "metadata": {},
   "outputs": [],
   "source": []
  },
  {
   "cell_type": "code",
   "execution_count": null,
   "id": "8034dcd0",
   "metadata": {},
   "outputs": [],
   "source": []
  },
  {
   "cell_type": "code",
   "execution_count": null,
   "id": "1d3016d3",
   "metadata": {},
   "outputs": [],
   "source": []
  },
  {
   "cell_type": "code",
   "execution_count": null,
   "id": "977f0e19",
   "metadata": {},
   "outputs": [],
   "source": []
  }
 ],
 "metadata": {
  "kernelspec": {
   "display_name": "Python 3",
   "language": "python",
   "name": "python3"
  },
  "language_info": {
   "codemirror_mode": {
    "name": "ipython",
    "version": 3
   },
   "file_extension": ".py",
   "mimetype": "text/x-python",
   "name": "python",
   "nbconvert_exporter": "python",
   "pygments_lexer": "ipython3",
   "version": "3.11.9"
  }
 },
 "nbformat": 4,
 "nbformat_minor": 5
}
