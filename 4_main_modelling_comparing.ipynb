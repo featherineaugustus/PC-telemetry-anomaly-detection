{
 "cells": [
  {
   "cell_type": "markdown",
   "id": "3d773891",
   "metadata": {},
   "source": [
    "# Load Libraries"
   ]
  },
  {
   "cell_type": "code",
   "execution_count": 1,
   "id": "8ad29280",
   "metadata": {},
   "outputs": [],
   "source": [
    "import warnings\n",
    "warnings.filterwarnings(\"ignore\")\n",
    "\n",
    "import time\n",
    "import os\n",
    "import pickle\n",
    "\n",
    "import numpy as np\n",
    "import pandas as pd\n",
    "import seaborn as sns\n",
    "import matplotlib.pyplot as plt\n",
    "%matplotlib inline\n",
    "\n",
    "from collections import Counter\n",
    "\n",
    "import lightgbm as lgb\n",
    "\n",
    "from sklearn.preprocessing import StandardScaler\n",
    "from sklearn.preprocessing import MinMaxScaler\n",
    "from sklearn.model_selection import train_test_split\n",
    "from sklearn.metrics import precision_recall_fscore_support, roc_auc_score\n",
    "from sklearn.model_selection import train_test_split, GridSearchCV\n",
    "from sklearn.metrics import classification_report, roc_auc_score, confusion_matrix, balanced_accuracy_score\n",
    "from sklearn.metrics import ConfusionMatrixDisplay\n"
   ]
  },
  {
   "cell_type": "code",
   "execution_count": null,
   "id": "c183cb69",
   "metadata": {},
   "outputs": [],
   "source": []
  },
  {
   "cell_type": "markdown",
   "id": "dca04c33",
   "metadata": {},
   "source": [
    "# Code"
   ]
  },
  {
   "cell_type": "code",
   "execution_count": 2,
   "id": "dbbedc88",
   "metadata": {},
   "outputs": [
    {
     "data": {
      "text/html": [
       "<div>\n",
       "<style scoped>\n",
       "    .dataframe tbody tr th:only-of-type {\n",
       "        vertical-align: middle;\n",
       "    }\n",
       "\n",
       "    .dataframe tbody tr th {\n",
       "        vertical-align: top;\n",
       "    }\n",
       "\n",
       "    .dataframe thead th {\n",
       "        text-align: right;\n",
       "    }\n",
       "</style>\n",
       "<table border=\"1\" class=\"dataframe\">\n",
       "  <thead>\n",
       "    <tr style=\"text-align: right;\">\n",
       "      <th></th>\n",
       "      <th>timestamp</th>\n",
       "      <th>machine_id</th>\n",
       "      <th>temperature</th>\n",
       "      <th>vibration</th>\n",
       "      <th>humidity</th>\n",
       "      <th>pressure</th>\n",
       "      <th>energy_consumption</th>\n",
       "      <th>machine_status</th>\n",
       "      <th>anomaly_flag</th>\n",
       "      <th>predicted_remaining_life</th>\n",
       "      <th>failure_type</th>\n",
       "      <th>downtime_risk</th>\n",
       "      <th>maintenance_required</th>\n",
       "    </tr>\n",
       "  </thead>\n",
       "  <tbody>\n",
       "    <tr>\n",
       "      <th>0</th>\n",
       "      <td>2025-01-01 01:37:00</td>\n",
       "      <td>1</td>\n",
       "      <td>62.59</td>\n",
       "      <td>48.08</td>\n",
       "      <td>60.13</td>\n",
       "      <td>1.62</td>\n",
       "      <td>4.16</td>\n",
       "      <td>1</td>\n",
       "      <td>0</td>\n",
       "      <td>363</td>\n",
       "      <td>Normal</td>\n",
       "      <td>0.0</td>\n",
       "      <td>0</td>\n",
       "    </tr>\n",
       "    <tr>\n",
       "      <th>1</th>\n",
       "      <td>2025-01-01 01:42:00</td>\n",
       "      <td>1</td>\n",
       "      <td>70.88</td>\n",
       "      <td>68.67</td>\n",
       "      <td>50.57</td>\n",
       "      <td>1.05</td>\n",
       "      <td>2.36</td>\n",
       "      <td>1</td>\n",
       "      <td>0</td>\n",
       "      <td>111</td>\n",
       "      <td>Normal</td>\n",
       "      <td>0.0</td>\n",
       "      <td>0</td>\n",
       "    </tr>\n",
       "    <tr>\n",
       "      <th>2</th>\n",
       "      <td>2025-01-01 02:13:00</td>\n",
       "      <td>1</td>\n",
       "      <td>62.34</td>\n",
       "      <td>72.68</td>\n",
       "      <td>60.47</td>\n",
       "      <td>2.24</td>\n",
       "      <td>4.95</td>\n",
       "      <td>1</td>\n",
       "      <td>0</td>\n",
       "      <td>192</td>\n",
       "      <td>Normal</td>\n",
       "      <td>0.0</td>\n",
       "      <td>0</td>\n",
       "    </tr>\n",
       "    <tr>\n",
       "      <th>3</th>\n",
       "      <td>2025-01-01 02:19:00</td>\n",
       "      <td>1</td>\n",
       "      <td>88.03</td>\n",
       "      <td>53.36</td>\n",
       "      <td>50.79</td>\n",
       "      <td>3.08</td>\n",
       "      <td>2.25</td>\n",
       "      <td>1</td>\n",
       "      <td>0</td>\n",
       "      <td>301</td>\n",
       "      <td>Normal</td>\n",
       "      <td>0.0</td>\n",
       "      <td>0</td>\n",
       "    </tr>\n",
       "    <tr>\n",
       "      <th>4</th>\n",
       "      <td>2025-01-01 03:05:00</td>\n",
       "      <td>1</td>\n",
       "      <td>79.39</td>\n",
       "      <td>49.44</td>\n",
       "      <td>56.99</td>\n",
       "      <td>2.54</td>\n",
       "      <td>2.76</td>\n",
       "      <td>1</td>\n",
       "      <td>0</td>\n",
       "      <td>127</td>\n",
       "      <td>Normal</td>\n",
       "      <td>0.0</td>\n",
       "      <td>0</td>\n",
       "    </tr>\n",
       "  </tbody>\n",
       "</table>\n",
       "</div>"
      ],
      "text/plain": [
       "            timestamp  machine_id  temperature  vibration  humidity  pressure  \\\n",
       "0 2025-01-01 01:37:00           1        62.59      48.08     60.13      1.62   \n",
       "1 2025-01-01 01:42:00           1        70.88      68.67     50.57      1.05   \n",
       "2 2025-01-01 02:13:00           1        62.34      72.68     60.47      2.24   \n",
       "3 2025-01-01 02:19:00           1        88.03      53.36     50.79      3.08   \n",
       "4 2025-01-01 03:05:00           1        79.39      49.44     56.99      2.54   \n",
       "\n",
       "   energy_consumption  machine_status  anomaly_flag  predicted_remaining_life  \\\n",
       "0                4.16               1             0                       363   \n",
       "1                2.36               1             0                       111   \n",
       "2                4.95               1             0                       192   \n",
       "3                2.25               1             0                       301   \n",
       "4                2.76               1             0                       127   \n",
       "\n",
       "  failure_type  downtime_risk  maintenance_required  \n",
       "0       Normal            0.0                     0  \n",
       "1       Normal            0.0                     0  \n",
       "2       Normal            0.0                     0  \n",
       "3       Normal            0.0                     0  \n",
       "4       Normal            0.0                     0  "
      ]
     },
     "execution_count": 2,
     "metadata": {},
     "output_type": "execute_result"
    }
   ],
   "source": [
    "# 1. Load dataset (example: SMART CSV)\n",
    "data = pd.read_csv('dataset/smart_manufacturing_data.csv', parse_dates=['timestamp'])\n",
    "data = data.sort_values(['machine_id','timestamp']).reset_index(drop=True)\n",
    "data.head()"
   ]
  },
  {
   "cell_type": "code",
   "execution_count": 3,
   "id": "9332d589",
   "metadata": {},
   "outputs": [
    {
     "name": "stdout",
     "output_type": "stream",
     "text": [
      "Number of machines: 50\n"
     ]
    },
    {
     "data": {
      "text/plain": [
       "Counter({0: 91084, 1: 8916})"
      ]
     },
     "execution_count": 3,
     "metadata": {},
     "output_type": "execute_result"
    }
   ],
   "source": [
    "print('Number of machines:', len(set(data['machine_id'].tolist())))\n",
    "Counter(data[\"anomaly_flag\"].tolist())"
   ]
  },
  {
   "cell_type": "code",
   "execution_count": null,
   "id": "d239621f",
   "metadata": {},
   "outputs": [],
   "source": []
  },
  {
   "cell_type": "markdown",
   "id": "e0913e99",
   "metadata": {},
   "source": [
    "Now, we only use 2 features out of 5"
   ]
  },
  {
   "cell_type": "code",
   "execution_count": 4,
   "id": "13b5ef34",
   "metadata": {},
   "outputs": [],
   "source": [
    "# 2. Scale and split features\n",
    "# Split by machines\n",
    "machine_train = list(range(1, 41)) # 1-40\n",
    "machine_test = list(range(41, 51)) # 41-50\n",
    "\n",
    "features = [\"temperature\", \"vibration\", \"humidity\", \"pressure\", \"energy_consumption\"]\n",
    "# features = [\"temperature\", \"vibration\"]\n",
    "\n",
    "X_train = data[data['machine_id'].isin(machine_train)][features]\n",
    "X_test = data[data['machine_id'].isin(machine_test)][features]\n",
    "\n",
    "y_train = data[data['machine_id'].isin(machine_train)]['anomaly_flag']\n",
    "y_test = data[data['machine_id'].isin(machine_test)]['anomaly_flag']"
   ]
  },
  {
   "cell_type": "code",
   "execution_count": 5,
   "id": "55c179ab",
   "metadata": {},
   "outputs": [
    {
     "name": "stdout",
     "output_type": "stream",
     "text": [
      "Train: 80095\n",
      "Test : 19905\n",
      "Train: Counter({0: 73001, 1: 7094})\n",
      "Test : Counter({0: 18083, 1: 1822})\n"
     ]
    }
   ],
   "source": [
    "print('Train:', len(y_train))\n",
    "print('Test :', len(y_test))\n",
    "\n",
    "print('Train:', Counter(y_train))\n",
    "print('Test :', Counter(y_test))"
   ]
  },
  {
   "cell_type": "code",
   "execution_count": null,
   "id": "9d01fd0b",
   "metadata": {},
   "outputs": [
    {
     "ename": "EOFError",
     "evalue": "Ran out of input",
     "output_type": "error",
     "traceback": [
      "\u001b[1;31m---------------------------------------------------------------------------\u001b[0m",
      "\u001b[1;31mEOFError\u001b[0m                                  Traceback (most recent call last)",
      "Cell \u001b[1;32mIn[6], line 2\u001b[0m\n\u001b[0;32m      1\u001b[0m \u001b[38;5;28;01mwith\u001b[39;00m \u001b[38;5;28mopen\u001b[39m(\u001b[38;5;124m'\u001b[39m\u001b[38;5;124mmodels/model_scaler.pkl\u001b[39m\u001b[38;5;124m'\u001b[39m, \u001b[38;5;124m'\u001b[39m\u001b[38;5;124mrb\u001b[39m\u001b[38;5;124m'\u001b[39m) \u001b[38;5;28;01mas\u001b[39;00m f:\n\u001b[1;32m----> 2\u001b[0m     scaler \u001b[38;5;241m=\u001b[39m \u001b[43mpickle\u001b[49m\u001b[38;5;241;43m.\u001b[39;49m\u001b[43mload\u001b[49m\u001b[43m(\u001b[49m\u001b[43mf\u001b[49m\u001b[43m)\u001b[49m\n\u001b[0;32m      4\u001b[0m \u001b[38;5;28;01mwith\u001b[39;00m \u001b[38;5;28mopen\u001b[39m(\u001b[38;5;124m'\u001b[39m\u001b[38;5;124mmodels/model_scaler_smaller.pkl\u001b[39m\u001b[38;5;124m'\u001b[39m, \u001b[38;5;124m'\u001b[39m\u001b[38;5;124mrb\u001b[39m\u001b[38;5;124m'\u001b[39m) \u001b[38;5;28;01mas\u001b[39;00m f:\n\u001b[0;32m      5\u001b[0m     scaler_smaller \u001b[38;5;241m=\u001b[39m pickle\u001b[38;5;241m.\u001b[39mload(f)\n",
      "\u001b[1;31mEOFError\u001b[0m: Ran out of input"
     ]
    }
   ],
   "source": []
  },
  {
   "cell_type": "code",
   "execution_count": 7,
   "id": "c28da29e",
   "metadata": {},
   "outputs": [],
   "source": [
    "with open('models/model_lgbm.pkl', 'rb') as f:\n",
    "    loaded_model = pickle.load(f)\n",
    "    \n",
    "with open('models/model_lgbm_smaller.pkl', 'rb') as f:\n",
    "    loaded_model_smaller = pickle.load(f)"
   ]
  },
  {
   "cell_type": "code",
   "execution_count": null,
   "id": "fafd21eb",
   "metadata": {},
   "outputs": [],
   "source": []
  },
  {
   "cell_type": "markdown",
   "id": "44d6622c",
   "metadata": {},
   "source": [
    "Now we analyze the time taken for inference"
   ]
  },
  {
   "cell_type": "code",
   "execution_count": 26,
   "id": "4bdceda5",
   "metadata": {},
   "outputs": [
    {
     "name": "stdout",
     "output_type": "stream",
     "text": [
      "Mean: 3240.88 micro-seconds\n",
      "Median: 3007.53 micro-seconds\n",
      "Standard Deviation: 1960.89 micro-seconds\n",
      "Mean: 3294.17 micro-seconds\n",
      "Median: 3003.00 micro-seconds\n",
      "Standard Deviation: 2378.22 micro-seconds\n"
     ]
    }
   ],
   "source": [
    "\n",
    "# 5. Benchmark model size and inference latency\n",
    "list_compute_time = []\n",
    "list_compute_time_smaller = []\n",
    "\n",
    "for i in range(1000):\n",
    "    \n",
    "    # Normal\n",
    "    start = time.time()\n",
    "    X_sample = [list(X_train.iloc[i])]\n",
    "    scaler = StandardScaler()\n",
    "    X_sample = scaler.fit_transform(X_sample)\n",
    "    y_pred = loaded_model.predict(X_sample)\n",
    "    list_compute_time.append(time.time()-start)\n",
    "\n",
    "    # Smaller\n",
    "    start = time.time()\n",
    "    X_sample = [list(X_train.iloc[i])[0:2]]\n",
    "    scaler = StandardScaler()\n",
    "    X_sample = scaler.fit_transform(X_sample)\n",
    "    y_pred = loaded_model_smaller.predict(X_sample)\n",
    "    list_compute_time_smaller.append(time.time()-start)\n",
    "\n",
    "list_compute_time = [x*1e6 for x in list_compute_time]\n",
    "mean_time = np.mean(list_compute_time)\n",
    "median_time = np.median(list_compute_time)\n",
    "std_dev_time = np.std(list_compute_time)\n",
    "\n",
    "# Display the results\n",
    "print(f\"Mean: {mean_time:.2f} micro-seconds\")\n",
    "print(f\"Median: {median_time:.2f} micro-seconds\")\n",
    "print(f\"Standard Deviation: {std_dev_time:.2f} micro-seconds\")\n",
    "\n",
    "list_compute_time_smaller = [x*1e6 for x in list_compute_time_smaller]\n",
    "mean_time = np.mean(list_compute_time_smaller)\n",
    "median_time = np.median(list_compute_time_smaller)\n",
    "std_dev_time = np.std(list_compute_time_smaller)\n",
    "\n",
    "# Display the results\n",
    "print(f\"Mean: {mean_time:.2f} micro-seconds\")\n",
    "print(f\"Median: {median_time:.2f} micro-seconds\")\n",
    "print(f\"Standard Deviation: {std_dev_time:.2f} micro-seconds\")"
   ]
  },
  {
   "cell_type": "code",
   "execution_count": 25,
   "id": "f83410e3",
   "metadata": {},
   "outputs": [
    {
     "data": {
      "image/png": "[encoded data removed]",
      "text/plain": [
       "<Figure size 800x600 with 1 Axes>"
      ]
     },
     "metadata": {},
     "output_type": "display_data"
    }
   ],
   "source": [
    "# Plotting the histogram\n",
    "plt.figure(figsize=(8, 6))\n",
    "plt.hist(list_compute_time, bins=10, edgecolor='black', color='skyblue', alpha=0.5)\n",
    "plt.hist(list_compute_time_smaller, bins=10, edgecolor='black', color='red', alpha=0.5)\n",
    "plt.title('Distribution of Model Run Times')\n",
    "plt.xlabel('Time (micro-seconds)')\n",
    "plt.ylabel('Frequency')\n",
    "plt.grid(True)\n",
    "plt.show()"
   ]
  },
  {
   "cell_type": "code",
   "execution_count": null,
   "id": "cda5a9c5",
   "metadata": {},
   "outputs": [],
   "source": []
  },
  {
   "cell_type": "code",
   "execution_count": null,
   "id": "4784f814",
   "metadata": {},
   "outputs": [],
   "source": []
  }
 ],
 "metadata": {
  "kernelspec": {
   "display_name": "Python 3",
   "language": "python",
   "name": "python3"
  },
  "language_info": {
   "codemirror_mode": {
    "name": "ipython",
    "version": 3
   },
   "file_extension": ".py",
   "mimetype": "text/x-python",
   "name": "python",
   "nbconvert_exporter": "python",
   "pygments_lexer": "ipython3",
   "version": "3.11.9"
  }
 },
 "nbformat": 4,
 "nbformat_minor": 5
}
